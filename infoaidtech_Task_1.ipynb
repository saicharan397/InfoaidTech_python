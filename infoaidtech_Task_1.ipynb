{
  "nbformat": 4,
  "nbformat_minor": 0,
  "metadata": {
    "colab": {
      "provenance": []
    },
    "kernelspec": {
      "name": "python3",
      "display_name": "Python 3"
    },
    "language_info": {
      "name": "python"
    }
  },
  "cells": [
    {
      "cell_type": "code",
      "execution_count": 1,
      "metadata": {
        "colab": {
          "base_uri": "https://localhost:8080/"
        },
        "id": "0SbITSXMBLU1",
        "outputId": "a5815993-2bbc-419f-9f3c-617b0911fc13"
      },
      "outputs": [
        {
          "output_type": "stream",
          "name": "stdout",
          "text": [
            "Welcome to the Number Guessing Game!\n",
            "I'm thinking of a number between 1 and 100. Can you guess it?\n",
            "Enter your name: sai charan\n",
            "Enter your guess: 55\n",
            "Too high! Try again.\n",
            "Enter your guess: 22\n",
            "Too low! Try again.\n",
            "Enter your guess: 30\n",
            "Too low! Try again.\n",
            "Enter your guess: 40\n",
            "Too low! Try again.\n",
            "Enter your guess: 41\n",
            "Too low! Try again.\n",
            "Enter your guess: 45\n",
            "Too low! Try again.\n",
            "Enter your guess: 47\n",
            "Congratulations, sai charan! You guessed the correct number 47 in 7 attempts.\n",
            "Do you want to play again? (yes/no): no\n",
            "Thanks for playing. Goodbye!\n"
          ]
        }
      ],
      "source": [
        "import random\n",
        "\n",
        "def welcome():\n",
        "    print(\"Welcome to the Number Guessing Game!\")\n",
        "    print(\"I'm thinking of a number between 1 and 100. Can you guess it?\")\n",
        "\n",
        "def get_player_name():\n",
        "    return input(\"Enter your name: \")\n",
        "\n",
        "def play_game():\n",
        "    # Generate a random number between 1 and 100\n",
        "    secret_number = random.randint(1, 100)\n",
        "\n",
        "    attempts = 0\n",
        "    max_attempts = 10\n",
        "\n",
        "    while attempts < max_attempts:\n",
        "        try:\n",
        "            # Get the player's guess\n",
        "            guess = int(input(\"Enter your guess: \"))\n",
        "\n",
        "            # Check if the guess is correct\n",
        "            if guess == secret_number:\n",
        "                print(f\"Congratulations, {player_name}! You guessed the correct number {secret_number} in {attempts + 1} attempts.\")\n",
        "                return True\n",
        "            elif guess < secret_number:\n",
        "                print(\"Too low! Try again.\")\n",
        "            else:\n",
        "                print(\"Too high! Try again.\")\n",
        "\n",
        "            attempts += 1\n",
        "\n",
        "        except ValueError:\n",
        "            print(\"Invalid input. Please enter a valid number.\")\n",
        "\n",
        "    print(f\"Sorry, {player_name}. You've reached the maximum number of attempts. The correct number was {secret_number}.\")\n",
        "    return False\n",
        "\n",
        "def play_again():\n",
        "    return input(\"Do you want to play again? (yes/no): \").lower() == \"yes\"\n",
        "\n",
        "# Main game loop\n",
        "while True:\n",
        "    welcome()\n",
        "    player_name = get_player_name()\n",
        "\n",
        "    if play_game():\n",
        "        if not play_again():\n",
        "            print(\"Thanks for playing. Goodbye!\")\n",
        "            break\n",
        "    else:\n",
        "        if not play_again():\n",
        "            print(\"Thanks for playing. Goodbye!\")\n",
        "            break\n"
      ]
    }
  ]
}