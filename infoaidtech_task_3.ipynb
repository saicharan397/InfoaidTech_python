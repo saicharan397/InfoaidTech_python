{
  "nbformat": 4,
  "nbformat_minor": 0,
  "metadata": {
    "colab": {
      "provenance": []
    },
    "kernelspec": {
      "name": "python3",
      "display_name": "Python 3"
    },
    "language_info": {
      "name": "python"
    }
  },
  "cells": [
    {
      "cell_type": "code",
      "execution_count": 1,
      "metadata": {
        "colab": {
          "base_uri": "https://localhost:8080/"
        },
        "id": "Db4kbKjjDkd9",
        "outputId": "5a584aa8-ffd8-45ce-8480-c0c8baddd996"
      },
      "outputs": [
        {
          "output_type": "stream",
          "name": "stdout",
          "text": [
            "Welcome to the Dice Rolling App!\n",
            "Enter the number of dice to roll (1 or 2): 2\n",
            "Press Enter to roll the dice...\n",
            "\n",
            "Rolling 2 dice...\n",
            "Results: 4, 4\n",
            "Do you want to roll again? (yes/no): yes\n",
            "Press Enter to roll the dice...1\n",
            "\n",
            "Rolling 2 dice...\n",
            "Results: 6, 1\n",
            "Do you want to roll again? (yes/no): yes\n",
            "Press Enter to roll the dice...\n",
            "\n",
            "Rolling 2 dice...\n",
            "Results: 1, 3\n",
            "Do you want to roll again? (yes/no): no\n",
            "Thanks for rolling the dice. Goodbye!\n"
          ]
        }
      ],
      "source": [
        "import random\n",
        "\n",
        "def roll_dice(num_dice):\n",
        "    print(f\"\\nRolling {num_dice} dice...\")\n",
        "    results = [random.randint(1, 6) for _ in range(num_dice)]\n",
        "    return results\n",
        "\n",
        "def main():\n",
        "    print(\"Welcome to the Dice Rolling App!\")\n",
        "\n",
        "    while True:\n",
        "        try:\n",
        "            num_dice = int(input(\"Enter the number of dice to roll (1 or 2): \"))\n",
        "            if num_dice not in [1, 2]:\n",
        "                raise ValueError(\"Please enter 1 or 2.\")\n",
        "            break\n",
        "        except ValueError as e:\n",
        "            print(f\"Error: {e}\")\n",
        "\n",
        "    while True:\n",
        "        input(\"Press Enter to roll the dice...\")\n",
        "        dice_results = roll_dice(num_dice)\n",
        "\n",
        "        print(\"Results:\", \", \".join(map(str, dice_results)))\n",
        "\n",
        "        play_again = input(\"Do you want to roll again? (yes/no): \").lower()\n",
        "        if play_again != \"yes\":\n",
        "            print(\"Thanks for rolling the dice. Goodbye!\")\n",
        "            break\n",
        "\n",
        "if __name__ == \"__main__\":\n",
        "    main()\n"
      ]
    },
    {
      "cell_type": "code",
      "source": [],
      "metadata": {
        "id": "EGA0fvXjDqni"
      },
      "execution_count": null,
      "outputs": []
    }
  ]
}